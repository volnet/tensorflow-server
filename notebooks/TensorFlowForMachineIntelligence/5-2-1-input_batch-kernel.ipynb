{
 "cells": [
  {
   "cell_type": "code",
   "execution_count": 26,
   "metadata": {},
   "outputs": [
    {
     "name": "stdout",
     "output_type": "stream",
     "text": [
      "(2, 2, 2, 1)\n",
      "(1, 1, 1, 2)\n",
      "[[[[  0.   0.]\n",
      "   [  1.   2.]]\n",
      "\n",
      "  [[  2.   4.]\n",
      "   [  3.   6.]]]\n",
      "\n",
      "\n",
      " [[[  2.   4.]\n",
      "   [  4.   8.]]\n",
      "\n",
      "  [[  6.  12.]\n",
      "   [  8.  16.]]]]\n"
     ]
    }
   ],
   "source": [
    "import tensorflow as tf\n",
    "\n",
    "input_batch = tf.constant([\n",
    "    [ # 第一个输入\n",
    "        [[0.0], [1.0]],\n",
    "        [[2.0], [3.0]]\n",
    "    ],\n",
    "    [ # 第二个输入\n",
    "        [[2.0], [4.0]],\n",
    "        [[6.0], [8.0]]\n",
    "    ]\n",
    "])\n",
    "\n",
    "# 卷积核：其作用是返回一个其第1个通道等于原始输入值，第2个通道等于原始输入值两倍的张量\n",
    "kernel = tf.constant([\n",
    "    [\n",
    "        [[1.0, 2.0]]\n",
    "    ]\n",
    "])\n",
    "\n",
    "print input_batch.shape\n",
    "print kernel.shape\n",
    "\n",
    "conv2d = tf.nn.conv2d(input_batch, kernel, use_cudnn_on_gpu=False, strides=[1, 1, 1, 1], padding='SAME')\n",
    "\n",
    "with tf.Session() as sess:\n",
    "    print sess.run(conv2d)\n",
    "    sess.close()"
   ]
  },
  {
   "cell_type": "code",
   "execution_count": 25,
   "metadata": {},
   "outputs": [
    {
     "name": "stdout",
     "output_type": "stream",
     "text": [
      "(2, 2, 2, 1)\n",
      "(1, 1, 1, 3)\n",
      "[[[[  0.   0.   0.]\n",
      "   [  1.   2.   3.]]\n",
      "\n",
      "  [[  2.   4.   6.]\n",
      "   [  3.   6.   9.]]]\n",
      "\n",
      "\n",
      " [[[  2.   4.   6.]\n",
      "   [  4.   8.  12.]]\n",
      "\n",
      "  [[  6.  12.  18.]\n",
      "   [  8.  16.  24.]]]]\n"
     ]
    }
   ],
   "source": [
    "import tensorflow as tf\n",
    "\n",
    "input_batch = tf.constant([\n",
    "    [ # 第一个输入\n",
    "        [[0.0], [1.0]],\n",
    "        [[2.0], [3.0]]\n",
    "    ],\n",
    "    [ # 第二个输入\n",
    "        [[2.0], [4.0]],\n",
    "        [[6.0], [8.0]]\n",
    "    ]\n",
    "])\n",
    "\n",
    "# 卷积核：其作用是返回一个其第1个通道等于原始输入值，第2个通道等于原始输入值两倍的张量\n",
    "kernel = tf.constant([\n",
    "    [\n",
    "        [[1.0, 2.0, 3.0]]\n",
    "    ]\n",
    "])\n",
    "\n",
    "print input_batch.shape\n",
    "print kernel.shape\n",
    "\n",
    "conv2d = tf.nn.conv2d(input_batch, kernel, use_cudnn_on_gpu=False, strides=[1, 1, 1, 1], padding='SAME')\n",
    "\n",
    "with tf.Session() as sess:\n",
    "    print sess.run(conv2d)\n",
    "    sess.close()"
   ]
  }
 ],
 "metadata": {
  "kernelspec": {
   "display_name": "Python 2",
   "language": "python",
   "name": "python2"
  },
  "language_info": {
   "codemirror_mode": {
    "name": "ipython",
    "version": 2
   },
   "file_extension": ".py",
   "mimetype": "text/x-python",
   "name": "python",
   "nbconvert_exporter": "python",
   "pygments_lexer": "ipython2",
   "version": "2.7.12"
  }
 },
 "nbformat": 4,
 "nbformat_minor": 2
}
