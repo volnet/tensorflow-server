{
 "cells": [
  {
   "cell_type": "code",
   "execution_count": 40,
   "metadata": {},
   "outputs": [
    {
     "name": "stdout",
     "output_type": "stream",
     "text": [
      "(2, 2, 3, 3)\n",
      "(2, 2, 3, 3)\n",
      "[  6 255   0]\n"
     ]
    }
   ],
   "source": [
    "import tensorflow as tf\n",
    "\n",
    "image_batch = tf.constant([\n",
    "    [ # 第1幅图像\n",
    "        [[1, 255, 0], [2, 255, 0], [3, 255, 0]],\n",
    "        [[4, 255, 0], [5, 255, 0], [6, 255, 0]]\n",
    "    ],\n",
    "    [ # 第2幅图像\n",
    "        [[7, 0, 255], [8, 0, 255], [9, 0, 255]],\n",
    "        [[10, 0, 255], [11, 0, 255], [12, 0, 255]]\n",
    "    ]\n",
    "])\n",
    "\n",
    "print image_batch.get_shape()\n",
    "print image_batch.shape\n",
    "\n",
    "with tf.Session() as sess:\n",
    "    print sess.run(image_batch)[0][1][2]\n",
    "    sess.close()"
   ]
  },
  {
   "cell_type": "code",
   "execution_count": 41,
   "metadata": {},
   "outputs": [
    {
     "name": "stdout",
     "output_type": "stream",
     "text": [
      "(2, 2, 3, 4, 2)\n",
      "(2, 2, 3, 4, 2)\n",
      "[[2 3]\n",
      " [2 3]\n",
      " [2 3]\n",
      " [2 3]]\n"
     ]
    }
   ],
   "source": [
    "import tensorflow as tf\n",
    "\n",
    "image_batch = tf.constant([\n",
    "    [ # 第1幅图像\n",
    "        [[[2, 3], [2, 3], [2, 3], [2, 3]], [[2, 3], [2, 3], [2, 3], [2, 3]], [[2, 3], [2, 3], [2, 3], [2, 3]]],\n",
    "        [[[2, 3], [2, 3], [2, 3], [2, 3]], [[2, 3], [2, 3], [2, 3], [2, 3]], [[2, 3], [2, 3], [2, 3], [2, 3]]]\n",
    "    ],\n",
    "    [ # 第2幅图像\n",
    "        [[[2, 3], [2, 3], [2, 3], [2, 3]], [[2, 3], [2, 3], [2, 3], [2, 3]], [[2, 3], [2, 3], [2, 3], [2, 3]]],\n",
    "        [[[2, 3], [2, 3], [2, 3], [2, 3]], [[2, 3], [2, 3], [2, 3], [2, 3]], [[2, 3], [2, 3], [2, 3], [2, 3]]]\n",
    "    ]\n",
    "])\n",
    "\n",
    "print image_batch.get_shape()\n",
    "print image_batch.shape\n",
    "\n",
    "with tf.Session() as sess:\n",
    "    print sess.run(image_batch)[0][1][2]\n",
    "    sess.close()"
   ]
  }
 ],
 "metadata": {
  "kernelspec": {
   "display_name": "Python 2",
   "language": "python",
   "name": "python2"
  },
  "language_info": {
   "codemirror_mode": {
    "name": "ipython",
    "version": 2
   },
   "file_extension": ".py",
   "mimetype": "text/x-python",
   "name": "python",
   "nbconvert_exporter": "python",
   "pygments_lexer": "ipython2",
   "version": "2.7.12"
  }
 },
 "nbformat": 4,
 "nbformat_minor": 2
}
