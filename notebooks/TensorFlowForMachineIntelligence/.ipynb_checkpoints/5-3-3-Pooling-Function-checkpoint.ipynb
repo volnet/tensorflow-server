{
 "cells": [
  {
   "cell_type": "markdown",
   "metadata": {},
   "source": [
    "### 1. tf.nn.max_pool"
   ]
  },
  {
   "cell_type": "code",
   "execution_count": 2,
   "metadata": {},
   "outputs": [
    {
     "name": "stdout",
     "output_type": "stream",
     "text": [
      "[[[[ 1.5]]]]\n"
     ]
    }
   ],
   "source": [
    "import tensorflow as tf\n",
    "\n",
    "# 输入通常为前一层的输出，而非直接为图像 \n",
    "batch_size = 1\n",
    "input_height = 3\n",
    "input_width = 3\n",
    "input_channels = 1\n",
    "\n",
    "layer_input = tf.constant([\n",
    "    [\n",
    "        [[1.0], [0.2], [1.5]],\n",
    "        [[0.1], [1.2], [1.4]],\n",
    "        [[1.1], [0.4], [0.4]]\n",
    "    ]\n",
    "])\n",
    "\n",
    "# strides 会使用image_height和image_width遍历整个输入\n",
    "kernel = [batch_size, input_height, input_width, input_channels]\n",
    "max_pool = tf.nn.max_pool(layer_input, kernel, [1, 1, 1, 1], \"VALID\")\n",
    "\n",
    "with tf.Session() as sess:\n",
    "    print sess.run(max_pool)\n",
    "    sess.close()"
   ]
  },
  {
   "cell_type": "markdown",
   "metadata": {},
   "source": [
    "### 2. tf.nn.avg_pool"
   ]
  },
  {
   "cell_type": "code",
   "execution_count": 4,
   "metadata": {},
   "outputs": [
    {
     "name": "stdout",
     "output_type": "stream",
     "text": [
      "[[[[ 0.5]]]]\n"
     ]
    }
   ],
   "source": [
    "import tensorflow as tf\n",
    "\n",
    "batch_size = 1\n",
    "input_height = 3\n",
    "input_width = 3\n",
    "input_channels = 1\n",
    "\n",
    "layer_input = tf.constant([\n",
    "    [\n",
    "        [[1.0], [1.0], [1.0]],\n",
    "        [[1.0], [0.5], [0.0]],\n",
    "        [[0.0], [0.0], [0.0]]\n",
    "    ]\n",
    "])\n",
    "\n",
    "# strides 会使用image_height和image_width遍历整个输入\n",
    "kernel = [batch_size, input_height, input_width, input_channels]\n",
    "avg_pool = tf.nn.avg_pool(layer_input, kernel, [1, 1, 1, 1], \"VALID\")\n",
    "\n",
    "with tf.Session() as sess:\n",
    "    print sess.run(avg_pool)\n",
    "    sess.close()"
   ]
  }
 ],
 "metadata": {
  "kernelspec": {
   "display_name": "Python 2",
   "language": "python",
   "name": "python2"
  },
  "language_info": {
   "codemirror_mode": {
    "name": "ipython",
    "version": 2
   },
   "file_extension": ".py",
   "mimetype": "text/x-python",
   "name": "python",
   "nbconvert_exporter": "python",
   "pygments_lexer": "ipython2",
   "version": "2.7.12"
  }
 },
 "nbformat": 4,
 "nbformat_minor": 2
}
