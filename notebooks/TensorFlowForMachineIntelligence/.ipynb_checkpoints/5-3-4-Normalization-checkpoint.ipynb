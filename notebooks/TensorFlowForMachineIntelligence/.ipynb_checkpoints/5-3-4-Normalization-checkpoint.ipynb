{
 "cells": [
  {
   "cell_type": "markdown",
   "metadata": {},
   "source": [
    "### tf.nn.local_response_normalization"
   ]
  },
  {
   "cell_type": "code",
   "execution_count": 1,
   "metadata": {},
   "outputs": [
    {
     "name": "stdout",
     "output_type": "stream",
     "text": [
      "[array([[[[ 1.]],\n",
      "\n",
      "        [[ 2.]],\n",
      "\n",
      "        [[ 3.]]]], dtype=float32), array([[[[ 0.70710677]],\n",
      "\n",
      "        [[ 0.89442718]],\n",
      "\n",
      "        [[ 0.94868326]]]], dtype=float32)]\n"
     ]
    }
   ],
   "source": [
    "import tensorflow as tf\n",
    "\n",
    "layer_input = tf.constant([\n",
    "    [[[1.]], [[2.]], [[3.]]]\n",
    "])\n",
    "lrn = tf.nn.local_response_normalization(layer_input)\n",
    "with tf.Session() as sess:\n",
    "    print sess.run([layer_input, lrn])\n",
    "    sess.close()"
   ]
  }
 ],
 "metadata": {
  "kernelspec": {
   "display_name": "Python 2",
   "language": "python",
   "name": "python2"
  },
  "language_info": {
   "codemirror_mode": {
    "name": "ipython",
    "version": 2
   },
   "file_extension": ".py",
   "mimetype": "text/x-python",
   "name": "python",
   "nbconvert_exporter": "python",
   "pygments_lexer": "ipython2",
   "version": "2.7.12"
  }
 },
 "nbformat": 4,
 "nbformat_minor": 2
}
