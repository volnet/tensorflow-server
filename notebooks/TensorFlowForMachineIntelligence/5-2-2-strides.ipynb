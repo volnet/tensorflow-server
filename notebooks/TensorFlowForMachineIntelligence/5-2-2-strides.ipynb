{
 "cells": [
  {
   "cell_type": "markdown",
   "metadata": {},
   "source": [
    "#### 5.2.2 跨度（strides）\n",
    "\n",
    "图像的高度为6个像素，宽度为6个像素，而深度为1个通道（6x6x1）"
   ]
  },
  {
   "cell_type": "code",
   "execution_count": 3,
   "metadata": {},
   "outputs": [
    {
     "name": "stdout",
     "output_type": "stream",
     "text": [
      "(1, 6, 6, 1)\n",
      "(3, 3, 1, 1)\n",
      "[[[[ 2.20000005]\n",
      "   [ 8.19999981]]\n",
      "\n",
      "  [[ 2.79999995]\n",
      "   [ 8.80000019]]]]\n"
     ]
    }
   ],
   "source": [
    "import tensorflow as tf\n",
    "\n",
    "input_batch = tf.constant([\n",
    "    [ # 第一个输入(6x6x1)\n",
    "        [[0.0], [1.0], [2.0], [3.0], [4.0], [5.0]],\n",
    "        [[0.1], [1.1], [2.1], [3.1], [4.1], [5.1]],\n",
    "        [[0.2], [1.2], [2.2], [3.2], [4.2], [5.2]],\n",
    "        [[0.3], [1.3], [2.3], [3.3], [4.3], [5.3]],\n",
    "        [[0.4], [1.4], [2.4], [3.4], [4.4], [5.4]],\n",
    "        [[0.5], [1.5], [2.5], [3.5], [4.5], [5.5]]\n",
    "    ]\n",
    "])\n",
    "\n",
    "\n",
    "kernel = tf.constant([ # 卷积核3x3x1\n",
    "    [[[0.0]], [[0.5]], [[0.0]]],\n",
    "    [[[0.0]], [[1.0]], [[0.0]]],\n",
    "    [[[0.0]], [[0.5]], [[0.0]]]\n",
    "])\n",
    "\n",
    "print input_batch.shape\n",
    "print kernel.shape\n",
    "\n",
    "conv2d = tf.nn.conv2d(input_batch, kernel, use_cudnn_on_gpu=False, strides=[1, 3, 3, 1], padding='SAME')\n",
    "\n",
    "with tf.Session() as sess:\n",
    "    print sess.run(conv2d)\n",
    "    sess.close()"
   ]
  },
  {
   "cell_type": "code",
   "execution_count": 4,
   "metadata": {},
   "outputs": [
    {
     "name": "stdout",
     "output_type": "stream",
     "text": [
      "(1, 6, 6, 1)\n",
      "(3, 3, 1, 1)\n",
      "[[[[  2.20000005]\n",
      "   [  6.19999981]\n",
      "   [ 10.19999981]]\n",
      "\n",
      "  [[  2.5999999 ]\n",
      "   [  6.60000038]\n",
      "   [ 10.60000038]]\n",
      "\n",
      "  [[  2.20000005]\n",
      "   [  5.19999981]\n",
      "   [  8.19999981]]]]\n"
     ]
    }
   ],
   "source": [
    "import tensorflow as tf\n",
    "\n",
    "input_batch = tf.constant([\n",
    "    [ # 第一个输入(6x6x1)\n",
    "        [[0.0], [1.0], [2.0], [3.0], [4.0], [5.0]],\n",
    "        [[0.1], [1.1], [2.1], [3.1], [4.1], [5.1]],\n",
    "        [[0.2], [1.2], [2.2], [3.2], [4.2], [5.2]],\n",
    "        [[0.3], [1.3], [2.3], [3.3], [4.3], [5.3]],\n",
    "        [[0.4], [1.4], [2.4], [3.4], [4.4], [5.4]],\n",
    "        [[0.5], [1.5], [2.5], [3.5], [4.5], [5.5]]\n",
    "    ]\n",
    "])\n",
    "\n",
    "\n",
    "kernel = tf.constant([ # 卷积核3x3x1\n",
    "    [[[0.0]], [[0.5]], [[0.0]]],\n",
    "    [[[0.0]], [[1.0]], [[0.0]]],\n",
    "    [[[0.0]], [[0.5]], [[0.0]]]\n",
    "])\n",
    "\n",
    "print input_batch.shape\n",
    "print kernel.shape\n",
    "\n",
    "conv2d = tf.nn.conv2d(input_batch, kernel, use_cudnn_on_gpu=False, strides=[1, 2, 2, 1], padding='SAME')\n",
    "\n",
    "with tf.Session() as sess:\n",
    "    print sess.run(conv2d)\n",
    "    sess.close()"
   ]
  }
 ],
 "metadata": {
  "kernelspec": {
   "display_name": "Python 2",
   "language": "python",
   "name": "python2"
  },
  "language_info": {
   "codemirror_mode": {
    "name": "ipython",
    "version": 2
   },
   "file_extension": ".py",
   "mimetype": "text/x-python",
   "name": "python",
   "nbconvert_exporter": "python",
   "pygments_lexer": "ipython2",
   "version": "2.7.12"
  }
 },
 "nbformat": 4,
 "nbformat_minor": 2
}
