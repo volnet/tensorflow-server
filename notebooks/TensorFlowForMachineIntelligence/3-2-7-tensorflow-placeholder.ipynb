{
 "cells": [
  {
   "cell_type": "markdown",
   "metadata": {},
   "source": [
    "#### 3.2.7 利用占位符点添加输入\n",
    "\n",
    "占位符的行为与Tensor对象一致，但在创建时无须为它们指定具体的数值。它们的作用是为运行时即将到来的某个Tensor对象预留位置，因此实际上变成了“输入”节点。"
   ]
  },
  {
   "cell_type": "code",
   "execution_count": 1,
   "metadata": {},
   "outputs": [
    {
     "data": {
      "text/plain": [
       "23"
      ]
     },
     "execution_count": 1,
     "metadata": {},
     "output_type": "execute_result"
    }
   ],
   "source": [
    "import tensorflow as tf\n",
    "import numpy as np\n",
    "\n",
    "# 创建一个长度为2、数据类型为int32的占位向量\n",
    "a = tf.placeholder(tf.int32, shape=[2], name=\"my_input\")\n",
    "\n",
    "# 将该占位向量视为其他任意Tensor对象，加以使用\n",
    "b = tf.reduce_prod(a, name=\"prod_b\")\n",
    "c = tf.reduce_sum(a, name=\"prod_c\")\n",
    "\n",
    "d = tf.add(b, c, name=\"add_d\")\n",
    "\n",
    "# 定义一个TensorFlow Session对象\n",
    "sess = tf.Session()\n",
    "\n",
    "# 创建一个将传给feed_dict参数的字典\n",
    "# 键：'a'，指向占位符输出Tensor对象的句柄\n",
    "# 值：一个值为[5,3]、类型为int32的向量\n",
    "input_dict = {a: np.array([5,3], dtype=np.int32)}\n",
    "\n",
    "# 计算d的值，将input_dict的“值”传给a\n",
    "sess.run(d, feed_dict=input_dict)"
   ]
  }
 ],
 "metadata": {
  "kernelspec": {
   "display_name": "Python 2",
   "language": "python",
   "name": "python2"
  },
  "language_info": {
   "codemirror_mode": {
    "name": "ipython",
    "version": 2
   },
   "file_extension": ".py",
   "mimetype": "text/x-python",
   "name": "python",
   "nbconvert_exporter": "python",
   "pygments_lexer": "ipython2",
   "version": "2.7.12"
  }
 },
 "nbformat": 4,
 "nbformat_minor": 2
}
