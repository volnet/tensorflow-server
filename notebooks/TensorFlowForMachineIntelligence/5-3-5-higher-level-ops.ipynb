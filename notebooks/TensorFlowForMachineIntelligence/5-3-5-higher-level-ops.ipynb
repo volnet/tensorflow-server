{
 "cells": [
  {
   "cell_type": "markdown",
   "metadata": {},
   "source": [
    "https://www.tensorflow.org/api_guides/python/contrib.layers#Higher_level_ops_for_building_neural_network_layers"
   ]
  },
  {
   "cell_type": "markdown",
   "metadata": {},
   "source": [
    "### 1. tf.contrib.layers.conv2d(convolution2d)"
   ]
  },
  {
   "cell_type": "code",
   "execution_count": 4,
   "metadata": {},
   "outputs": [
    {
     "name": "stdout",
     "output_type": "stream",
     "text": [
      "[[[[   0.            0.            0.            0.        ]\n",
      "   [   0.          216.5531311    36.19777298  143.79277039]\n",
      "   [   0.          104.80976868   13.69223595  193.31230164]]\n",
      "\n",
      "  [[   0.           47.72636414    0.            0.        ]\n",
      "   [   0.           71.72908783   40.20363235    0.        ]\n",
      "   [   0.           47.72636414    0.            0.        ]]\n",
      "\n",
      "  [[   0.          104.80976868   13.69223595  193.31230164]\n",
      "   [   0.          216.5531311    36.19777298  143.79277039]\n",
      "   [   0.            0.            0.            0.        ]]]]\n"
     ]
    }
   ],
   "source": [
    "import tensorflow as tf\n",
    "\n",
    "image_input = tf.constant([\n",
    "    [\n",
    "        [[0., 0., 0.], [255., 255., 255.], [254., 0., 0.]],\n",
    "        [[0., 191., 0.], [3., 108., 233.], [0., 191., 0.]],\n",
    "        [[254., 0., 0.], [255., 255., 255.], [0., 0., 0.]]\n",
    "    ]\n",
    "])\n",
    "\n",
    "conv2d = tf.contrib.layers.convolution2d(\n",
    "    image_input,\n",
    "    num_outputs=4,\n",
    "    kernel_size=(1,1), # 这里仅有滤波器的高度和宽度\n",
    "    activation_fn=tf.nn.relu,\n",
    "    stride=(1, 1), # 对image_batch和input_channels的跨度值\n",
    "    trainable=True)\n",
    "\n",
    "# 有必要对在convolution2d的设置中所使用的变量初始化\n",
    "with tf.Session() as sess:\n",
    "    sess.run(tf.global_variables_initializer())\n",
    "    print sess.run(conv2d)\n",
    "    sess.close()"
   ]
  },
  {
   "cell_type": "markdown",
   "metadata": {},
   "source": [
    "### tf.contrib.layers.fully_connected"
   ]
  },
  {
   "cell_type": "code",
   "execution_count": 16,
   "metadata": {},
   "outputs": [
    {
     "name": "stdout",
     "output_type": "stream",
     "text": [
      "[array([[[ 1.20000005],\n",
      "        [ 3.4000001 ]]], dtype=float32), array([[[ 0.60588932,  0.80062568],\n",
      "        [ 1.71668637,  2.26843953]]], dtype=float32)]\n"
     ]
    }
   ],
   "source": [
    "import tensorflow as tf\n",
    "\n",
    "features = tf.constant([\n",
    "    [[1.2], [3.4]]\n",
    "])\n",
    "\n",
    "fc = tf.contrib.layers.fully_connected(features, num_outputs=2)\n",
    "\n",
    "with tf.Session() as sess:\n",
    "    sess.run(tf.global_variables_initializer())\n",
    "    print sess.run([features, fc])\n",
    "    sess.close()"
   ]
  }
 ],
 "metadata": {
  "kernelspec": {
   "display_name": "Python 2",
   "language": "python",
   "name": "python2"
  },
  "language_info": {
   "codemirror_mode": {
    "name": "ipython",
    "version": 2
   },
   "file_extension": ".py",
   "mimetype": "text/x-python",
   "name": "python",
   "nbconvert_exporter": "python",
   "pygments_lexer": "ipython2",
   "version": "2.7.12"
  }
 },
 "nbformat": 4,
 "nbformat_minor": 2
}
