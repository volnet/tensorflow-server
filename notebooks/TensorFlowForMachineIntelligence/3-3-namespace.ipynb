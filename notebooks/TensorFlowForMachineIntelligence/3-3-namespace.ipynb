{
 "cells": [
  {
   "cell_type": "markdown",
   "metadata": {},
   "source": [
    "### 3.3 通过名称作用域组织数据流图"
   ]
  },
  {
   "cell_type": "code",
   "execution_count": 2,
   "metadata": {},
   "outputs": [
    {
     "name": "stdout",
     "output_type": "stream",
     "text": [
      "ok\n"
     ]
    }
   ],
   "source": [
    "import tensorflow as tf\n",
    "\n",
    "graph = tf.Graph()\n",
    "\n",
    "with graph.as_default():\n",
    "    in_1 = tf.placeholder(tf.float32, shape=[], name=\"input_a\")\n",
    "    in_2 = tf.placeholder(tf.float32, shape=[], name=\"input_b\")\n",
    "    const = tf.constant(3, dtype=tf.float32, name=\"static_value\")\n",
    "    \n",
    "    with tf.name_scope(\"Transformation\"):\n",
    "        \n",
    "        with tf.name_scope(\"A\"):\n",
    "            A_mul = tf.multiply(in_1, const)\n",
    "            A_out = tf.subtract(A_mul, in_1)\n",
    "            \n",
    "        with tf.name_scope(\"B\"):\n",
    "            B_mul = tf.multiply(in_2, const)\n",
    "            B_out = tf.subtract(B_mul, in_2)\n",
    "            \n",
    "        with tf.name_scope(\"C\"):\n",
    "            C_div = tf.div(A_out, B_out)\n",
    "            C_out = tf.add(C_div, const)\n",
    "            \n",
    "        with tf.name_scope(\"C\"):\n",
    "            D_div = tf.div(B_out, A_out)\n",
    "            D_out = tf.add(D_div, const)\n",
    "            \n",
    "writer = tf.summary.FileWriter('../logs', graph=graph)\n",
    "print(\"ok\")\n",
    "writer.close()"
   ]
  },
  {
   "cell_type": "code",
   "execution_count": 4,
   "metadata": {
    "collapsed": true
   },
   "outputs": [],
   "source": [
    "import tensorflow as tf\n",
    "graph = tf.Graph()\n",
    "with graph.as_default():\n",
    "    with tf.name_scope(\"variables\"):\n",
    "        # 记录数据流图运行次数的Variable对象\n",
    "        global_step = tf.Variable(0, dtype=tf.int32, trainable=False, name=\"global_step\")\n",
    "        \n",
    "        # 追踪该模型的所有输出随时间的累加和的Variable对象\n",
    "        total_output = tf.Variable(0.0, dtype=tf.float32, trainable=False, name=\"total_output\")\n",
    "    with tf.name_scope(\"transformation\"):\n",
    "        with tf.name_scope(\"input\"):\n",
    "            # 创建输出占位符，用于接收一个向量\n",
    "            a = tf.placeholder(tf.float32, shape=[None], name=\"input_placeholder_a\")\n",
    "        \n",
    "        with tf.name_scope(\"intermediate_layer\"):\n",
    "            b = tf.reduce_prod(a, name=\"product_b\")\n",
    "            c = tf.reduce_sum(a, name=\"sum_c\")\n",
    "            \n",
    "        # 独立的输出层\n",
    "        with tf.name_scope(\"output\"):\n",
    "            output = tf.add(b, c, name=\"output\")\n",
    "    with tf.name_scope(\"update\"):\n",
    "        # 用最新的输出更新Variable对象total_output\n",
    "        update_total = total_output.assign_add(output)\n",
    "        # 将前面的Variable对象global_step增1，只要数据流图运行，该操作便需要运行\n",
    "        increment_step = global_step.assign_add(1)\n",
    "    with tf.name_scope(\"summaries\"):\n",
    "        avg = tf.div(update_total, tf.cast(increment_step, tf.float32), name=\"average\")\n",
    "        \n",
    "        # 为输出节点创建汇总数据\n",
    "        tf.summary.scalar(b'Output', output)\n",
    "        tf.summary.scalar(b'Sum_of_outputs_over_time', update_total)\n",
    "        tf.summary.scalar(b'Average_of_outputs_over_time', avg)\n",
    "    with tf.name_scope(\"global_ops\"):\n",
    "        # 初始化Op\n",
    "        init = tf.global_variables_initializer()\n",
    "        # 将所有汇总数据合并到一个Op中\n",
    "        merged_summaries = tf.summary.merge_all()\n",
    "# 用明确创建的Graph对象启动一个会话\n",
    "sess = tf.Session(graph=graph)\n",
    "# 开启一个Summary.FileWriter对象，保存汇总数据\n",
    "writer = tf.summary.FileWriter('../logs', graph=graph)\n",
    "# 初始化Variable对象\n",
    "sess.run(init)\n",
    "\n",
    "def run_graph(input_tensor):\n",
    "    \"\"\"\n",
    "    辅助函数；用给定的输入张量运行数据流图，并保存汇总数据\n",
    "    \"\"\"\n",
    "    feed_dict = {a: input_tensor}\n",
    "    _, step, summary = sess.run([output, increment_step, merged_summaries], feed_dict=feed_dict)\n",
    "    writer.add_summary(summary, global_step=step)\n",
    "    \n",
    "    \n",
    "# 用不同的输入运行该数据流图\n",
    "run_graph([2, 8])\n",
    "run_graph([3, 1, 3, 3])\n",
    "run_graph([8])\n",
    "run_graph([1, 2, 3])\n",
    "run_graph([11, 4])\n",
    "run_graph([4, 1])\n",
    "run_graph([7, 3, 1])\n",
    "run_graph([6, 3])\n",
    "run_graph([0, 2])\n",
    "run_graph([4, 5, 6])\n",
    "\n",
    "# 将汇总数据写入磁盘\n",
    "writer.flush()\n",
    "\n",
    "# 关闭Summary.FileWriter对象\n",
    "writer.close()\n",
    "\n",
    "# 关闭Session对象\n",
    "sess.close()"
   ]
  }
 ],
 "metadata": {
  "kernelspec": {
   "display_name": "Python 2",
   "language": "python",
   "name": "python2"
  },
  "language_info": {
   "codemirror_mode": {
    "name": "ipython",
    "version": 2
   },
   "file_extension": ".py",
   "mimetype": "text/x-python",
   "name": "python",
   "nbconvert_exporter": "python",
   "pygments_lexer": "ipython2",
   "version": "2.7.12"
  }
 },
 "nbformat": 4,
 "nbformat_minor": 2
}
