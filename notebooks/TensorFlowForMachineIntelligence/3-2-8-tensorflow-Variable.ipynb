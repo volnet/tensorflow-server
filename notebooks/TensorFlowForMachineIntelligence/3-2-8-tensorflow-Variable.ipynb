{
 "cells": [
  {
   "cell_type": "markdown",
   "metadata": {},
   "source": [
    "#### 3.2.8 Variable对象"
   ]
  },
  {
   "cell_type": "code",
   "execution_count": 2,
   "metadata": {},
   "outputs": [
    {
     "name": "stdout",
     "output_type": "stream",
     "text": [
      "8\n",
      "24\n"
     ]
    }
   ],
   "source": [
    "import tensorflow as tf\n",
    "\n",
    "# 为Variable对象传入一个初始值3\n",
    "my_var = tf.Variable(3, name=\"my_variable\")\n",
    "\n",
    "add = tf.add(5, my_var)\n",
    "mul = tf.multiply(8, my_var)\n",
    "\n",
    "sess = tf.Session()\n",
    "print( sess.run(add, {my_var: 3}) )\n",
    "print( sess.run(mul, {my_var: 3}) )"
   ]
  },
  {
   "cell_type": "code",
   "execution_count": 3,
   "metadata": {},
   "outputs": [
    {
     "name": "stdout",
     "output_type": "stream",
     "text": [
      "8\n",
      "24\n"
     ]
    }
   ],
   "source": [
    "import tensorflow as tf\n",
    "\n",
    "# 为Variable对象传入一个初始值3\n",
    "my_var = tf.Variable(3, name=\"my_variable\")\n",
    "\n",
    "add = tf.add(5, my_var)\n",
    "mul = tf.multiply(8, my_var)\n",
    "\n",
    "# init = tf.initialize_all_variables()\n",
    "init = tf.global_variables_initializer()\n",
    "\n",
    "sess = tf.Session()\n",
    "sess.run(init)\n",
    "print( sess.run(add) )\n",
    "print( sess.run(mul) )"
   ]
  },
  {
   "cell_type": "code",
   "execution_count": 4,
   "metadata": {},
   "outputs": [
    {
     "name": "stdout",
     "output_type": "stream",
     "text": [
      "[[ 0.  0.]\n",
      " [ 0.  0.]]\n",
      "[ 1.  1.  1.  1.  1.  1.]\n",
      "[[[ 7.36646748  5.92754126  0.02677441]\n",
      "  [ 2.65021324  7.22599411  4.18535328]\n",
      "  [ 9.4065094   2.52592087  3.31845999]]\n",
      "\n",
      " [[ 5.38765526  9.91532421  6.73284531]\n",
      "  [ 4.563447    5.6954813   0.33340216]\n",
      "  [ 1.97954893  7.14117908  5.79750633]]\n",
      "\n",
      " [[ 9.88667965  9.10527229  2.39065886]\n",
      "  [ 4.48652649  1.77519441  8.96650887]\n",
      "  [ 1.08305335  9.99290848  8.36886883]]]\n",
      "[[[ 0.042863    1.74999881 -1.11648512]\n",
      "  [-1.6436305   0.63539112 -1.43535173]\n",
      "  [-0.43996078  0.0381521   3.0149281 ]]\n",
      "\n",
      " [[-0.88205922  1.48196304 -0.61123294]\n",
      "  [ 2.38092589  3.58360386  1.60584545]\n",
      "  [ 0.25116175  2.51354647  0.99681592]]\n",
      "\n",
      " [[ 2.77642369 -0.08581628  0.2368466 ]\n",
      "  [ 1.52422547  1.98154223 -1.5723958 ]\n",
      "  [ 0.69524586 -0.85520279  0.81700754]]]\n",
      "[[[ 5.17072773  6.19159508  4.61080551]\n",
      "  [ 5.30246067  5.33007574  3.20373678]\n",
      "  [ 4.18813944  5.51578951  4.28698587]]\n",
      "\n",
      " [[ 3.73997712  3.08857989  5.04794884]\n",
      "  [ 4.88521767  4.3528409   3.81345129]\n",
      "  [ 6.28895664  4.68503571  4.58730412]]\n",
      "\n",
      " [[ 3.46369505  4.94302034  4.07447767]\n",
      "  [ 4.69040203  3.52030611  4.09320641]\n",
      "  [ 4.50313616  6.06674671  4.65195656]]]\n"
     ]
    }
   ],
   "source": [
    "import tensorflow as tf\n",
    "\n",
    "# 2x2的零矩阵\n",
    "zeros = tf.zeros([2, 2])\n",
    "\n",
    "# 长度为6的全1向量\n",
    "ones = tf.ones([6])\n",
    "\n",
    "# 3x3x3的张量，其元素服从0~10的均匀分布\n",
    "uniform = tf.random_uniform([3, 3, 3], minval=0, maxval=10)\n",
    "\n",
    "# 3x3x3的张量，其元素服从0均值、标准差为2的正态分布\n",
    "normal = tf.random_normal([3, 3, 3], mean=0.0, stddev=2.0)\n",
    "\n",
    "# 3x3x3的张量，其元素服从任何偏离均值不会超过2倍标准差的值，从而可以防止有一个或两个元素与该张量中的其他元素显著不同的情况出现\n",
    "truncated = tf.truncated_normal([3, 3, 3], mean=5.0, stddev=1.0)\n",
    "\n",
    "sess = tf.Session()\n",
    "out_zeros = sess.run(zeros)\n",
    "out_ones = sess.run(ones)\n",
    "out_uniform = sess.run(uniform)\n",
    "out_normal = sess.run(normal)\n",
    "out_truncated = sess.run(truncated)\n",
    "\n",
    "print( out_zeros )\n",
    "print( out_ones )\n",
    "print( out_uniform )\n",
    "print( out_normal )\n",
    "print( out_truncated )"
   ]
  },
  {
   "cell_type": "code",
   "execution_count": 5,
   "metadata": {},
   "outputs": [
    {
     "name": "stdout",
     "output_type": "stream",
     "text": [
      "None\n"
     ]
    }
   ],
   "source": [
    "import tensorflow as tf\n",
    "\n",
    "var1 = tf.Variable(0, name=\"initialize_me\")\n",
    "var2 = tf.Variable(1, name=\"no_initialization\")\n",
    "\n",
    "#init = tf.initialize_variables([var1], \"init_var1\")\n",
    "init = tf.variables_initializer([var1], \"init_var1\")\n",
    "\n",
    "sess = tf.Session()\n",
    "out = sess.run(init)\n",
    "\n",
    "print(out)"
   ]
  },
  {
   "cell_type": "code",
   "execution_count": 6,
   "metadata": {},
   "outputs": [
    {
     "name": "stdout",
     "output_type": "stream",
     "text": [
      "2\n",
      "4\n",
      "8\n"
     ]
    }
   ],
   "source": [
    "import tensorflow as tf\n",
    "\n",
    "# 创建一个初值为1的Variable对象\n",
    "my_var = tf.Variable(1)\n",
    "\n",
    "# 创建一个Op，使其在每次运行时都将该Variable对象乘以2\n",
    "my_var_times_two = my_var.assign(my_var * 2)\n",
    "\n",
    "# 初始化Op\n",
    "init = tf.global_variables_initializer()\n",
    "\n",
    "sess = tf.Session()\n",
    "\n",
    "# 初始化Variable对象\n",
    "sess.run(init)\n",
    "\n",
    "# 将Variable对象乘以2，并将其返回\n",
    "out1 = sess.run(my_var_times_two)\n",
    "print(out1)\n",
    "# 输出：2\n",
    "\n",
    "# 将Variable对象乘以2，并将其返回\n",
    "out2 = sess.run(my_var_times_two)\n",
    "print(out2)\n",
    "# 输出：4\n",
    "\n",
    "# 将Variable对象乘以2，并将其返回\n",
    "out3 = sess.run(my_var_times_two)\n",
    "print(out3)\n",
    "# 输出：8"
   ]
  },
  {
   "cell_type": "code",
   "execution_count": 7,
   "metadata": {},
   "outputs": [
    {
     "name": "stdout",
     "output_type": "stream",
     "text": [
      "6\n",
      "4\n",
      "-1\n"
     ]
    }
   ],
   "source": [
    "import tensorflow as tf\n",
    "\n",
    "my_var = tf.Variable(1)\n",
    "out1 = my_var.assign_add(5)\n",
    "out2 = my_var.assign_sub(2)\n",
    "\n",
    "# 初始化Op\n",
    "init = tf.global_variables_initializer()\n",
    "\n",
    "sess = tf.Session()\n",
    "sess.run(init)\n",
    "print( sess.run(out1) )\n",
    "## 6\n",
    "print( sess.run(out2) )\n",
    "## 4\n",
    "\n",
    "# 如果希望将所有Variable对象的值重置为初始值，则只需要再次调用global_variables_initializer，也就是运行sess.run(init)\n",
    "sess.run(init)\n",
    "print( sess.run(out2) )"
   ]
  }
 ],
 "metadata": {
  "kernelspec": {
   "display_name": "Python 2",
   "language": "python",
   "name": "python2"
  },
  "language_info": {
   "codemirror_mode": {
    "name": "ipython",
    "version": 2
   },
   "file_extension": ".py",
   "mimetype": "text/x-python",
   "name": "python",
   "nbconvert_exporter": "python",
   "pygments_lexer": "ipython2",
   "version": "2.7.12"
  }
 },
 "nbformat": 4,
 "nbformat_minor": 2
}
